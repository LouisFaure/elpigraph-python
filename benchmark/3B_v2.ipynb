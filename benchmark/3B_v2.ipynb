{
 "cells": [
  {
   "cell_type": "code",
   "execution_count": null,
   "metadata": {},
   "outputs": [],
   "source": [
    "import pickle \n",
    "import numpy as np\n",
    "import pandas\n",
    "import time\n",
    "import elpigraph\n",
    "import elpigraphgpu\n",
    "import rpy2.robjects.packages as rpackages\n",
    "import rpy2.robjects\n",
    "import rpy2.robjects.numpy2ri\n",
    "r_elpigraph = rpackages.importr(\"ElPiGraph.R\")\n",
    "rpy2.robjects.numpy2ri.activate()"
   ]
  },
  {
   "cell_type": "markdown",
   "metadata": {},
   "source": [
    "# Quick elpigraph run first to make sure it has been compiled\n"
   ]
  },
  {
   "cell_type": "code",
   "execution_count": null,
   "metadata": {},
   "outputs": [],
   "source": [
    "tmp = elpigraph.computeElasticPrincipalTree(X = np.random.random(size=(100,10)),\n",
    "                                                NumNodes = 10,\n",
    "                                                n_cores = 1,\n",
    "                                                drawAccuracyComplexity = False, drawEnergy = False,drawPCAView = False,\n",
    "                                                Do_PCA=False,CenterData=False)\n",
    "tmp = elpigraphgpu.computeElasticPrincipalTree(X = np.random.random(size=(100,10)),\n",
    "                                                NumNodes = 10,\n",
    "                                                n_cores = 1,\n",
    "                                                drawAccuracyComplexity = False, drawEnergy = False,drawPCAView = False,\n",
    "                                                Do_PCA=False,CenterData=False)"
   ]
  },
  {
   "cell_type": "markdown",
   "metadata": {},
   "source": [
    "# Generate plot data\n",
    "You can modify num_cores as you see fit"
   ]
  },
  {
   "cell_type": "code",
   "execution_count": null,
   "metadata": {},
   "outputs": [],
   "source": [
    "nfeatures = 10\n",
    "num_points = [10**3,10**4,10**5,10**6]\n",
    "num_nodes = [10,20,30,40,50,60]#,70,80,90,100]\n",
    "num_cores = [1,2,4,8,16]#,32,20,24,28,32,36,40,44]\n",
    "\n",
    "run_points_py_gpu = []\n",
    "run_points_py = []\n",
    "run_points_r = []\n",
    "for npoints in num_points:\n",
    "    np.random.seed(0)\n",
    "    data=np.random.random(size=(npoints,nfeatures))\n",
    "\n",
    "    run_nodes_py_gpu = []\n",
    "    run_nodes_py = []\n",
    "    run_nodes_r = []\n",
    "    for nnode in num_nodes:\n",
    "\n",
    "\n",
    "        run_cores_py_gpu = []\n",
    "        run_cores_py = []\n",
    "        run_cores_r = []\n",
    "        for ncore in num_cores:\n",
    "            if ncore == 1:\n",
    "                # Run Python hybrid\n",
    "                s = time.time()\n",
    "                res = elpigraphgpu.computeElasticPrincipalTree(X = data,\n",
    "                                                              NumNodes = nnode,\n",
    "                                                              n_cores = 1, #this version can't run in parallel for now\n",
    "                                                              drawAccuracyComplexity = False, drawEnergy = False,drawPCAView = False,\n",
    "                                                              Do_PCA=False,CenterData=False)\n",
    "                end = time.time() - s\n",
    "                run_cores_py_gpu.append(end)\n",
    "\n",
    "            # Run Python\n",
    "            s = time.time()\n",
    "            res = elpigraph.computeElasticPrincipalTree(X = data,\n",
    "                                                        NumNodes = nnode,\n",
    "                                                        n_cores = ncore,\n",
    "                                                        drawAccuracyComplexity = False, drawEnergy = False,drawPCAView = False,\n",
    "                                                        Do_PCA=False,CenterData=False)\n",
    "            end = time.time() - s\n",
    "            run_cores_py.append(end)\n",
    "\n",
    "\n",
    "            # Run R\n",
    "            s = time.time()\n",
    "            res= r_elpigraph.computeElasticPrincipalTree(X = data,\n",
    "                                                         NumNodes = nnode,\n",
    "                                                         n_cores = ncore,\n",
    "                                                         drawAccuracyComplexity = False, drawEnergy = False,drawPCAView = False,\n",
    "                                                         Do_PCA=False,CenterData=False)\n",
    "            end = time.time() - s\n",
    "            run_cores_r.append(end)\n",
    "\n",
    "\n",
    "        run_nodes_py_gpu.append(run_cores_py_gpu)\n",
    "        run_nodes_py.append(run_cores_py)\n",
    "        run_nodes_r.append(run_cores_r)\n",
    "\n",
    "\n",
    "    run_points_py_gpu.append(run_nodes_py_gpu)\n",
    "    run_points_py.append(run_nodes_py)\n",
    "    run_points_r.append(run_nodes_r)"
   ]
  },
  {
   "cell_type": "code",
   "execution_count": null,
   "metadata": {},
   "outputs": [],
   "source": [
    "with open('3B_run_points_py_gpu.pkl', 'wb') as f:\n",
    "    pickle.dump(run_points_py_gpu,f)\n",
    "with open('3B_run_points_py.pkl', 'wb') as f:\n",
    "    pickle.dump(run_points_py,f)\n",
    "with open('3B_run_points_r.pkl', 'wb') as f:\n",
    "    pickle.dump(run_points_r,f)"
   ]
  }
 ],
 "metadata": {
  "kernelspec": {
   "display_name": "Python 3",
   "language": "python",
   "name": "python3"
  },
  "language_info": {
   "codemirror_mode": {
    "name": "ipython",
    "version": 3
   },
   "file_extension": ".py",
   "mimetype": "text/x-python",
   "name": "python",
   "nbconvert_exporter": "python",
   "pygments_lexer": "ipython3",
   "version": "3.7.5"
  }
 },
 "nbformat": 4,
 "nbformat_minor": 2
}
