{
 "cells": [
  {
   "cell_type": "code",
   "execution_count": 1,
   "metadata": {},
   "outputs": [],
   "source": [
    "import numpy as np\n",
    "import matplotlib.pyplot as plt\n",
    "import elpigraph"
   ]
  },
  {
   "cell_type": "code",
   "execution_count": 2,
   "metadata": {},
   "outputs": [],
   "source": [
    "X = np.genfromtxt('data/tree_data.csv', delimiter=',')[:,:2]\n",
    "X = np.concatenate((np.zeros(25)[None],np.linspace(-1,1,25)[None]),axis=0).T\n",
    "\n",
    "PointWeights=np.ones(len(X))[None].T\n",
    "SpringLaplacianMatrix = np.array([[0, 0, 0],\n",
    "                            [0, 0, 0],\n",
    "                            [0, 0, 0]])\n",
    "NodePositions=np.array([[-1, 0],\n",
    "    [0, -1],\n",
    "                        \n",
    "                        [1, 1]])\n",
    "SquaredX=np.sum(X**2,axis=1,keepdims=1)\n",
    "FixNodesAtPoints=[[0, 1, 2, 3, 4, 5]]\n",
    "\n",
    "FixedNodePositions = np.array([X[inds].mean(axis=0) for inds in FixNodesAtPoints]) #init fixed nodes "
   ]
  },
  {
   "cell_type": "code",
   "execution_count": 3,
   "metadata": {},
   "outputs": [
    {
     "data": {
      "image/png": "[encoded data removed]",
      "text/plain": [
       "<Figure size 432x288 with 1 Axes>"
      ]
     },
     "metadata": {
      "needs_background": "light"
     },
     "output_type": "display_data"
    },
    {
     "data": {
      "text/plain": [
       "<matplotlib.collections.PathCollection at 0x7f1a7972eb10>"
      ]
     },
     "execution_count": 3,
     "metadata": {},
     "output_type": "execute_result"
    },
    {
     "data": {
      "image/png": "[encoded data removed]",
      "text/plain": [
       "<Figure size 432x288 with 1 Axes>"
      ]
     },
     "metadata": {
      "needs_background": "light"
     },
     "output_type": "display_data"
    }
   ],
   "source": [
    "flat_FixNodesAtPoints = [item for sublist in FixNodesAtPoints for item in sublist] #fixed datapoints\n",
    "keep = [i for i in range(len(X)) if i not in flat_FixNodesAtPoints] #fitted datapoints\n",
    "\n",
    "#fitted subset\n",
    "X_move, SquaredX_move, PointWeights_move = X[keep], SquaredX[keep], PointWeights[keep]\n",
    "NodePositions_move = NodePositions[len(FixNodesAtPoints):]\n",
    "SpringLaplacianMatrix_move = SpringLaplacianMatrix[len(FixNodesAtPoints):,len(FixNodesAtPoints):]\n",
    "\n",
    "partition, dists = elpigraph.src.core.PartitionData(X_move,NodePositions_move,SquaredX=SquaredX_move,MaxBlockSize=1000000)\n",
    "NewNodePositions = elpigraph.src.distutils.FitGraph2DataGivenPartition(X_move, PointWeights_move, SpringLaplacianMatrix_move,partition)\n",
    "NewNodePositions = np.concatenate(\n",
    "    (\n",
    "        NodePositions[:len(FixNodesAtPoints)], #fixed node positions\n",
    "        NewNodePositions #fitted nodes\n",
    "    ))\n",
    "\n",
    "plt.scatter(*X[keep].T[:2],alpha=.2)\n",
    "plt.scatter(*NodePositions.T[:2]);plt.show()\n",
    "plt.scatter(*X[keep].T[:2],alpha=.2)\n",
    "plt.scatter(*NewNodePositions.T[:2])"
   ]
  },
  {
   "cell_type": "code",
   "execution_count": null,
   "metadata": {},
   "outputs": [],
   "source": []
  }
 ],
 "metadata": {
  "kernelspec": {
   "display_name": "Python 3",
   "language": "python",
   "name": "python3"
  },
  "language_info": {
   "codemirror_mode": {
    "name": "ipython",
    "version": 3
   },
   "file_extension": ".py",
   "mimetype": "text/x-python",
   "name": "python",
   "nbconvert_exporter": "python",
   "pygments_lexer": "ipython3",
   "version": "3.7.9"
  }
 },
 "nbformat": 4,
 "nbformat_minor": 4
}
