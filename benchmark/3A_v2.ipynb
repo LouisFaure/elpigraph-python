{
 "cells": [
  {
   "cell_type": "code",
   "execution_count": null,
   "metadata": {},
   "outputs": [],
   "source": [
    "import pickle\n",
    "import time\n",
    "import numpy as np\n",
    "import elpigraph\n",
    "import rpy2.robjects.packages as rpackages\n",
    "import rpy2.robjects\n",
    "import rpy2.robjects.numpy2ri\n",
    "r_elpigraph = rpackages.importr(\"ElPiGraph.R\")\n",
    "rpy2.robjects.numpy2ri.activate()"
   ]
  },
  {
   "cell_type": "markdown",
   "metadata": {},
   "source": [
    "# Quick elpigraph run first to make sure it has been compiled\n"
   ]
  },
  {
   "cell_type": "code",
   "execution_count": null,
   "metadata": {},
   "outputs": [],
   "source": [
    "res = elpigraph.computeElasticPrincipalTree(X = np.random.random(size=(100,10)),\n",
    "                                                NumNodes = 10,\n",
    "                                                n_cores = 1,\n",
    "                                                drawAccuracyComplexity = False, drawEnergy = False,drawPCAView = False,\n",
    "                                                Do_PCA=False,CenterData=False)"
   ]
  },
  {
   "cell_type": "markdown",
   "metadata": {},
   "source": [
    "# Generate plot data"
   ]
  },
  {
   "cell_type": "code",
   "execution_count": null,
   "metadata": {},
   "outputs": [],
   "source": [
    "### Python\n",
    "num_features = [10,20,30,40,50]\n",
    "num_points = [10**3,10**4,10**5]#,10**6]\n",
    "num_nodes = [10,20,30,40,50,60]\n",
    "\n",
    "run_features_py_tree = []\n",
    "run_features_py_circle = []\n",
    "run_features_py_curve = []\n",
    "for nfeatures in num_features:\n",
    "\n",
    "    run_points_py_tree = []\n",
    "    run_points_py_circle = []\n",
    "    run_points_py_curve = []\n",
    "    for npoints in num_points:\n",
    "        np.random.seed(0)\n",
    "        data=np.random.random(size=(npoints,nfeatures))\n",
    "\n",
    "        run_nodes_py_tree = []\n",
    "        run_nodes_py_circle = []\n",
    "        run_nodes_py_curve = []\n",
    "        for nnode in num_nodes:\n",
    "            #Run Python Tree\n",
    "            s = time.time()\n",
    "            res = elpigraph.computeElasticPrincipalTree(X = data,\n",
    "                                                        NumNodes = nnode,\n",
    "                                                        n_cores = 1,\n",
    "                                                        drawAccuracyComplexity = False, drawEnergy = False,drawPCAView = False,\n",
    "                                                        Do_PCA=False,CenterData=False)\n",
    "            end = time.time() - s\n",
    "            run_nodes_py_tree.append(end)\n",
    "\n",
    "            #Run Python Circle\n",
    "            s = time.time()\n",
    "            res = elpigraph.computeElasticPrincipalCircle(X = data,\n",
    "                                                          NumNodes = nnode,\n",
    "                                                          n_cores = 1,\n",
    "                                                          drawAccuracyComplexity = False, drawEnergy = False,drawPCAView = False,\n",
    "                                                          Do_PCA=False,CenterData=False)\n",
    "            end = time.time() - s\n",
    "            run_nodes_py_circle.append(end)\n",
    "\n",
    "            #Run Python Curve\n",
    "            s = time.time()\n",
    "            res = elpigraph.computeElasticPrincipalCurve(X = data,\n",
    "                                                        NumNodes = nnode,\n",
    "                                                        n_cores = 1,\n",
    "                                                        drawAccuracyComplexity = False, drawEnergy = False,drawPCAView = False,\n",
    "                                                        Do_PCA=False,CenterData=False)\n",
    "            end = time.time() - s\n",
    "            run_nodes_py_curve.append(end)\n",
    "\n",
    "        run_points_py_tree.append(run_nodes_py_tree)\n",
    "        run_points_py_circle.append(run_nodes_py_circle)\n",
    "        run_points_py_curve.append(run_nodes_py_curve)\n",
    "\n",
    "    run_features_py_tree.append(run_points_py_tree)\n",
    "    run_features_py_circle.append(run_points_py_circle)\n",
    "    run_features_py_curve.append(run_points_py_curve)"
   ]
  },
  {
   "cell_type": "code",
   "execution_count": null,
   "metadata": {},
   "outputs": [],
   "source": [
    "with open('3A_run_features_py_tree.pkl', 'wb') as f:\n",
    "    pickle.dump(run_features_py_tree,f)\n",
    "with open('3A_run_features_py_circle.pkl', 'wb') as f:\n",
    "    pickle.dump(run_features_py_circle,f)\n",
    "with open('3A_run_features_py_curve.pkl', 'wb') as f:\n",
    "    pickle.dump(run_features_py_curve,f)"
   ]
  }
 ],
 "metadata": {
  "kernelspec": {
   "display_name": "Python 3",
   "language": "python",
   "name": "python3"
  },
  "language_info": {
   "codemirror_mode": {
    "name": "ipython",
    "version": 3
   },
   "file_extension": ".py",
   "mimetype": "text/x-python",
   "name": "python",
   "nbconvert_exporter": "python",
   "pygments_lexer": "ipython3",
   "version": "3.7.5"
  }
 },
 "nbformat": 4,
 "nbformat_minor": 2
}
