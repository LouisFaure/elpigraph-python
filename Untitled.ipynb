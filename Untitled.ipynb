{
 "cells": [
  {
   "cell_type": "code",
   "execution_count": 1,
   "metadata": {},
   "outputs": [],
   "source": [
    "%load_ext rpy2.ipython\n",
    "import numpy as np\n",
    "import elpigraph\n",
    "X =  np.genfromtxt('data/tree_data.csv', delimiter=',')\n",
    "nNodes = 80"
   ]
  },
  {
   "cell_type": "code",
   "execution_count": 2,
   "metadata": {
    "collapsed": true,
    "jupyter": {
     "outputs_hidden": true
    }
   },
   "outputs": [
    {
     "name": "stdout",
     "output_type": "stream",
     "text": [
      "Collecting cupy\n",
      "  Using cached https://files.pythonhosted.org/packages/67/4b/6960cdfeee8bbfa12450da6b83206b57f6d6951a74043f055905449bb657/cupy-6.5.0.tar.gz\n",
      "\u001b[31m    ERROR: Command errored out with exit status 1:\n",
      "     command: /home/utilisateur/.conda/envs/tf/bin/python3.7 -c 'import sys, setuptools, tokenize; sys.argv[0] = '\"'\"'/tmp/pip-install-fekovzvp/cupy/setup.py'\"'\"'; __file__='\"'\"'/tmp/pip-install-fekovzvp/cupy/setup.py'\"'\"';f=getattr(tokenize, '\"'\"'open'\"'\"', open)(__file__);code=f.read().replace('\"'\"'\\r\\n'\"'\"', '\"'\"'\\n'\"'\"');f.close();exec(compile(code, __file__, '\"'\"'exec'\"'\"'))' egg_info --egg-base /tmp/pip-install-fekovzvp/cupy/pip-egg-info\n",
      "         cwd: /tmp/pip-install-fekovzvp/cupy/\n",
      "    Complete output (51 lines):\n",
      "    Options: {'package_name': 'cupy', 'long_description': None, 'wheel_libs': [], 'wheel_includes': [], 'no_rpath': False, 'profile': False, 'linetrace': False, 'annotate': False, 'no_cuda': False}\n",
      "    \n",
      "    -------- Configuring Module: cuda --------\n",
      "    cc1plus: warning: command line option '-Wstrict-prototypes' is valid for C/ObjC but not for C++\n",
      "    In file included from /usr/include/driver_types.h:72:0,\n",
      "                     from /usr/include/cublas_api.h:72,\n",
      "                     from /usr/include/cublas_v2.h:65,\n",
      "                     from /tmp/tmpbspaa7nf/a.cpp:1:\n",
      "    /usr/include/limits.h:26:10: fatal error: bits/libc-header-start.h: No such file or directory\n",
      "     #include <bits/libc-header-start.h>\n",
      "              ^~~~~~~~~~~~~~~~~~~~~~~~~~\n",
      "    compilation terminated.\n",
      "    command '/home/utilisateur/.conda/envs/tf/bin/x86_64-conda_cos6-linux-gnu-cc' failed with exit status 1\n",
      "    \n",
      "    ************************************************************\n",
      "    * CuPy Configuration Summary                               *\n",
      "    ************************************************************\n",
      "    \n",
      "    Build Environment:\n",
      "      Include directories: ['/usr/include']\n",
      "      Library directories: ['/usr/lib']\n",
      "      nvcc command       : ['/usr/bin/nvcc']\n",
      "    \n",
      "    Environment Variables:\n",
      "      CFLAGS          : -march=nocona -mtune=haswell -ftree-vectorize -fPIC -fstack-protector-strong -fno-plt -O2 -ffunction-sections -pipe\n",
      "      LDFLAGS         : -Wl,-O2 -Wl,--sort-common -Wl,--as-needed -Wl,-z,relro -Wl,-z,now -Wl,--disable-new-dtags -Wl,--gc-sections\n",
      "      LIBRARY_PATH    : (none)\n",
      "      CUDA_PATH       : (none)\n",
      "      NVTOOLSEXT_PATH : (none)\n",
      "      NVCC            : (none)\n",
      "    \n",
      "    Modules:\n",
      "      cuda      : No\n",
      "        -> Include files not found: ['cublas_v2.h', 'cuda.h', 'cuda_profiler_api.h', 'cuda_runtime.h', 'cufft.h', 'curand.h', 'cusparse.h', 'nvrtc.h']\n",
      "        -> Check your CFLAGS environment variable.\n",
      "    \n",
      "    ERROR: CUDA could not be found on your system.\n",
      "    Please refer to the Installation Guide for details:\n",
      "    https://docs-cupy.chainer.org/en/stable/install.html\n",
      "    \n",
      "    ************************************************************\n",
      "    \n",
      "    Traceback (most recent call last):\n",
      "      File \"<string>\", line 1, in <module>\n",
      "      File \"/tmp/pip-install-fekovzvp/cupy/setup.py\", line 132, in <module>\n",
      "        ext_modules = cupy_setup_build.get_ext_modules()\n",
      "      File \"/tmp/pip-install-fekovzvp/cupy/cupy_setup_build.py\", line 632, in get_ext_modules\n",
      "        extensions = make_extensions(arg_options, compiler, use_cython)\n",
      "      File \"/tmp/pip-install-fekovzvp/cupy/cupy_setup_build.py\", line 387, in make_extensions\n",
      "        raise Exception('Your CUDA environment is invalid. '\n",
      "    Exception: Your CUDA environment is invalid. Please check above error log.\n",
      "    ----------------------------------------\u001b[0m\n",
      "\u001b[31mERROR: Command errored out with exit status 1: python setup.py egg_info Check the logs for full command output.\u001b[0m\n",
      "Note: you may need to restart the kernel to use updated packages.\n"
     ]
    }
   ],
   "source": [
    "pip install cupy"
   ]
  },
  {
   "cell_type": "code",
   "execution_count": 3,
   "metadata": {},
   "outputs": [
    {
     "name": "stdout",
     "output_type": "stream",
     "text": [
      "Generating the initial configuration\n",
      "Creating a chain in the 1st PC with 2 nodes\n",
      "90% of the points have been used as initial conditions. Resetting.\n",
      "Constructing tree 1 of 1 / Subset 1 of 1\n",
      "Performing PCA\n",
      "Using standard PCA\n",
      "3 dimensions are being used\n",
      "100.0 % of the original variance has been retained\n",
      "The elastic matrix is being used. Edge configuration will be ignored\n",
      "Computing EPG with  10  nodes on  492  points and  3  dimensions\n",
      "Nodes =  2 3 4 5 6 7 8 9 \n",
      "\n",
      "BARCODE\tENERGY\tNNODES\tNEDGES\tNRIBS\tNSTARS\tNRAYS\tNRAYS2\tMSE\tMSEP\tFVE\tFVEP\tUE\tUR\tURN\tURN2\tURSD\n",
      "\n",
      "2||10\t0.0463\t10\t9\t4\t2\t0\t0\t0.029\t0.0192\t0.9463\t0.9644\t0.0152\t0.0022\t0.0215\t0.2151\t0\n",
      "\n",
      "\n",
      "MSDEnergyPlot not yet implemented\n",
      "accuracyComplexityPlot not yet implemented\n",
      "0.2909  seconds elapsed\n"
     ]
    }
   ],
   "source": [
    "res = elpigraph.computeElasticPrincipalTree(X,10,drawPCAView=False)"
   ]
  },
  {
   "cell_type": "code",
   "execution_count": 5,
   "metadata": {},
   "outputs": [
    {
     "name": "stdout",
     "output_type": "stream",
     "text": [
      "[1] \"Generating the initial configuration\"\n",
      "[1] \"Creating a chain in the 1st PC with 2 nodes\"\n",
      "Error in rbind(info, getNamespaceInfo(env, \"S3methods\")) : \n",
      "  number of columns of matrices must match (see arg 2)\n"
     ]
    }
   ],
   "source": [
    "%%R -i X -i nNodes\n",
    "Sys.setenv(TAR = '/bin/tar')\n",
    "options(unzip = \"internal\")\n",
    "devtools::install_github(\"Albluca/distutils\")  \n",
    "# devtools::install_github(\"Albluca/ElPiGraph.R\")\n",
    ".libPaths( c('/home/utilisateur/.conda/envs/Tensorflow/lib/R/library',.libPaths()))\n",
    "library('ElPiGraph.R')\n",
    "X <- get(load('/home/utilisateur/ElPiGraph.R/data/tree_data.rda')) \n",
    "res <- computeElasticPrincipalTree(X,10)"
   ]
  }
 ],
 "metadata": {
  "kernelspec": {
   "display_name": "Python 3",
   "language": "python",
   "name": "python3"
  },
  "language_info": {
   "codemirror_mode": {
    "name": "ipython",
    "version": 3
   },
   "file_extension": ".py",
   "mimetype": "text/x-python",
   "name": "python",
   "nbconvert_exporter": "python",
   "pygments_lexer": "ipython3",
   "version": "3.7.4"
  }
 },
 "nbformat": 4,
 "nbformat_minor": 4
}
