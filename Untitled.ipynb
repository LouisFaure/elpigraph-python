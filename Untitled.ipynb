{
 "cells": [
  {
   "cell_type": "code",
   "execution_count": 10,
   "metadata": {},
   "outputs": [
    {
     "name": "stdout",
     "output_type": "stream",
     "text": [
      "The rpy2.ipython extension is already loaded. To reload it, use:\n",
      "  %reload_ext rpy2.ipython\n"
     ]
    }
   ],
   "source": [
    "%load_ext rpy2.ipython\n",
    "import numpy as np\n",
    "import elpigraph\n",
    "X =  np.genfromtxt('data/tree_data.csv', delimiter=',')\n",
    "nNodes = 80"
   ]
  },
  {
   "cell_type": "code",
   "execution_count": 87,
   "metadata": {},
   "outputs": [
    {
     "name": "stdout",
     "output_type": "stream",
     "text": [
      "Generating the initial configuration\n",
      "Creating a chain in the 1st PC with 2 nodes\n",
      "90% of the points have been used as initial conditions. Resetting.\n",
      "Constructing tree 1 of 1 / Subset 1 of 1\n",
      "Performing PCA\n",
      "Using standard PCA\n",
      "3 dimensions are being used\n",
      "100.0 % of the original variance has been retained\n",
      "The elastic matrix is being used. Edge configuration will be ignored\n",
      "Computing EPG with  100  nodes on  10000  points and  3  dimensions\n",
      "Nodes =  2 3 4 5 6 7 8 9 10 11 12 13 14 15 16 17 18 19 20 21 22 23 24 25 26 27 28 29 30 31 32 33 34 35 36 37 38 39 40 41 42 43 44 45 46 47 48 49 50 51 52 53 54 55 56 57 58 59 60 61 62 63 64 65 66 67 68 69 70 71 72 73 74 75 76 77 78 79 80 81 82 83 84 85 86 87 88 89 90 91 92 93 94 95 96 97 98 99 \n",
      "\n",
      "BARCODE\tENERGY\tNNODES\tNEDGES\tNRIBS\tNSTARS\tNRAYS\tNRAYS2\tMSE\tMSEP\tFVE\tFVEP\tUE\tUR\tURN\tURN2\tURSD\n",
      "\n",
      "1|4|11||100\t0.028\t100\t99\t58\t11\t0\t0\t0.0194\t0.019\t0.9223\t0.924\t0.0085\t0.0001\t0.0083\t0.8309\t0\n",
      "\n",
      "\n",
      "MSDEnergyPlot not yet implemented\n",
      "accuracyComplexityPlot not yet implemented\n",
      "781.2788  seconds elapsed\n"
     ]
    }
   ],
   "source": [
    "X=np.random.random(size=(10000,3))\n",
    "res = elpigraph.computeElasticPrincipalTree(X,100,drawPCAView=False)"
   ]
  },
  {
   "cell_type": "code",
   "execution_count": 88,
   "metadata": {},
   "outputs": [
    {
     "data": {
      "text/plain": [
       "13.0"
      ]
     },
     "execution_count": 88,
     "metadata": {},
     "output_type": "execute_result"
    }
   ],
   "source": [
    "780/60"
   ]
  },
  {
   "cell_type": "code",
   "execution_count": 5,
   "metadata": {},
   "outputs": [
    {
     "name": "stdout",
     "output_type": "stream",
     "text": [
      "[1] \"Generating the initial configuration\"\n",
      "[1] \"Creating a chain in the 1st PC with 2 nodes\"\n",
      "Error in rbind(info, getNamespaceInfo(env, \"S3methods\")) : \n",
      "  number of columns of matrices must match (see arg 2)\n"
     ]
    }
   ],
   "source": [
    "%%R -i X -i nNodes\n",
    "Sys.setenv(TAR = '/bin/tar')\n",
    "options(unzip = \"internal\")\n",
    "devtools::install_github(\"Albluca/distutils\")  \n",
    "# devtools::install_github(\"Albluca/ElPiGraph.R\")\n",
    ".libPaths( c('/home/utilisateur/.conda/envs/Tensorflow/lib/R/library',.libPaths()))\n",
    "library('ElPiGraph.R')\n",
    "X <- get(load('/home/utilisateur/ElPiGraph.R/data/tree_data.rda')) \n",
    "res <- computeElasticPrincipalTree(X,10)"
   ]
  }
 ],
 "metadata": {
  "kernelspec": {
   "display_name": "Python 3",
   "language": "python",
   "name": "python3"
  },
  "language_info": {
   "codemirror_mode": {
    "name": "ipython",
    "version": 3
   },
   "file_extension": ".py",
   "mimetype": "text/x-python",
   "name": "python",
   "nbconvert_exporter": "python",
   "pygments_lexer": "ipython3",
   "version": "3.7.4"
  }
 },
 "nbformat": 4,
 "nbformat_minor": 4
}
