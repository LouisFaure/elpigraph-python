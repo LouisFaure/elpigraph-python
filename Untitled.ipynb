{
 "cells": [
  {
   "cell_type": "code",
   "execution_count": 2,
   "metadata": {},
   "outputs": [],
   "source": [
    "%load_ext rpy2.ipython\n",
    "import numpy as np\n",
    "import elpigraph\n",
    "X =  np.genfromtxt('data/tree_data.csv', delimiter=',')\n",
    "nNodes = 10"
   ]
  },
  {
   "cell_type": "code",
   "execution_count": 2,
   "metadata": {},
   "outputs": [
    {
     "name": "stdout",
     "output_type": "stream",
     "text": [
      "Generating the initial configuration\n",
      "Creating a chain in the 1st PC with 2 nodes\n",
      "90% of the points have been used as initial conditions. Resetting.\n",
      "Constructing tree 1 of 1 / Subset 1 of 1\n",
      "Performing PCA\n",
      "Using standard PCA\n",
      "3 dimensions are being used\n",
      "100.0 % of the original variance has been retained\n",
      "The elastic matrix is being used. Edge configuration will be ignored\n",
      "Computing EPG with  10  nodes on  492  points and  3  dimensions\n",
      "Nodes =  2 3 4 5 6 7 8 9 \n",
      "\n",
      "BARCODE\tENERGY\tNNODES\tNEDGES\tNRIBS\tNSTARS\tNRAYS\tNRAYS2\tMSE\tMSEP\tFVE\tFVEP\tUE\tUR\tURN\tURN2\tURSD\n",
      "\n",
      "2||10\t0.0463\t10\t9\t4\t2\t0\t0\t0.029\t0.0192\t0.9463\t0.9644\t0.0152\t0.0022\t0.0215\t0.2151\t0\n",
      "\n",
      "\n",
      "MSDEnergyPlot not yet implemented\n",
      "accuracyComplexityPlot not yet implemented\n",
      "0.2962  seconds elapsed\n"
     ]
    }
   ],
   "source": [
    "res = elpigraph.computeElasticPrincipalTree(X,nNodes,drawPCAView=False)"
   ]
  },
  {
   "cell_type": "code",
   "execution_count": 10,
   "metadata": {},
   "outputs": [
    {
     "name": "stdout",
     "output_type": "stream",
     "text": [
      "\n",
      "Error in library(\"ElPiGraph.R\") : \n",
      "  there is no package called ‘ElPiGraph.R’\n"
     ]
    }
   ],
   "source": [
    "%%R -i X -i nNodes\n",
    "# devtools::install_github(\"j-bac/ElPiGraph.R\")\n",
    "library('ElPiGraph.R')\n",
    "res <- computeElasticPrincipalTree(X,nNodes)"
   ]
  },
  {
   "cell_type": "code",
   "execution_count": null,
   "metadata": {},
   "outputs": [],
   "source": []
  }
 ],
 "metadata": {
  "kernelspec": {
   "display_name": "Python 3",
   "language": "python",
   "name": "python3"
  },
  "language_info": {
   "codemirror_mode": {
    "name": "ipython",
    "version": 3
   },
   "file_extension": ".py",
   "mimetype": "text/x-python",
   "name": "python",
   "nbconvert_exporter": "python",
   "pygments_lexer": "ipython3",
   "version": "3.7.4"
  }
 },
 "nbformat": 4,
 "nbformat_minor": 4
}
